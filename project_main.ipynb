version https://git-lfs.github.com/spec/v1
oid sha256:5a19d4e3ada64e7485d2b2a989baa7dd6f914980644d504eb18b799aea2b33a3
size 1481316
